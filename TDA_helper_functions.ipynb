{
 "cells": [
  {
   "cell_type": "code",
   "execution_count": 2,
   "id": "ca15ba50",
   "metadata": {},
   "outputs": [],
   "source": [
    "import numpy as np\n",
    "import ripser\n",
    "\n",
    "from scipy import sparse"
   ]
  },
  {
   "cell_type": "code",
   "execution_count": 1,
   "id": "4c29443c",
   "metadata": {},
   "outputs": [],
   "source": [
    "def lower_star_img_new(D):\n",
    "    \"\"\"\n",
    "    Construct a lower star filtration on an image. This function is essentially identical to the \n",
    "    lower_star_img() funciton from Ripser, except that it outputs H_1 persistence diagrams, in addition\n",
    "    to H_0 diagrams.\n",
    "    \n",
    "    Parameters\n",
    "    ----------\n",
    "    D: ndarray (M, N)\n",
    "        An array of image data\n",
    "    Returns\n",
    "    -------\n",
    "    I: list\n",
    "        A list containing the 0D and 1D persistence diagrams corresponding to the sublevelset filtration\n",
    "    \"\"\"\n",
    "    idxs = np.arange(D.shape[0]*D.shape[1])\n",
    "    idxs = np.reshape(idxs, D.shape)\n",
    "    I = idxs.flatten()\n",
    "    J = idxs.flatten()\n",
    "    V = D.flatten()\n",
    "    # Do 8 spatial neighbors\n",
    "    tidxs = np.nan*np.ones((D.shape[0]+2, D.shape[1]+2), dtype=np.int64)\n",
    "    tidxs[1:-1, 1:-1] = idxs\n",
    "    tD = np.nan*np.ones_like(tidxs)\n",
    "    tD[1:-1, 1:-1] = D\n",
    "    for di in [-1, 0, 1]:\n",
    "        for dj in [-1, 0, 1]:\n",
    "            if di == 0 and dj == 0:\n",
    "                continue\n",
    "            thisJ = np.roll(tidxs, di, axis=0)\n",
    "            thisJ = np.roll(thisJ, dj, axis=1)\n",
    "            thisD = np.roll(tD, di, axis=0)\n",
    "            thisD = np.roll(thisD, dj, axis=1)\n",
    "            thisD = np.maximum(thisD, tD)\n",
    "            # Deal with boundaries\n",
    "            thisI = tidxs[np.isnan(thisD)==0]\n",
    "            thisJ = thisJ[np.isnan(thisD)==0]\n",
    "            thisD = thisD[np.isnan(thisD)==0]\n",
    "            I = np.concatenate((I, thisI.flatten()))\n",
    "            J = np.concatenate((J, thisJ.flatten()))\n",
    "            V = np.concatenate((V, thisD.flatten()))\n",
    "    sparseDM = sparse.coo_matrix((V, (I, J)), shape=(idxs.size, idxs.size))\n",
    "    return ripser(sparseDM, distance_matrix=True, maxdim=1)['dgms']"
   ]
  },
  {
   "cell_type": "code",
   "execution_count": 2,
   "id": "df124389",
   "metadata": {},
   "outputs": [],
   "source": [
    "def PC(dgm):\n",
    "    beta0 = np.zeros(255)\n",
    "    beta1 = np.zeros(255)\n",
    "    \n",
    "    dgm0 = dgm[0]\n",
    "    dgm1 = dgm[1]\n",
    "    for t in range(255):\n",
    "        beta0[t] = np.sum((dgm0[:,0] < t)*(dgm0[:,1] > t))\n",
    "        beta1[t] = np.sum((dgm1[:,0] < t)*(dgm1[:,1] > t))\n",
    "        \n",
    "    return beta0, beta1"
   ]
  },
  {
   "cell_type": "code",
   "execution_count": null,
   "id": "d1733946",
   "metadata": {},
   "outputs": [],
   "source": []
  },
  {
   "cell_type": "code",
   "execution_count": null,
   "id": "a01ed849",
   "metadata": {},
   "outputs": [],
   "source": []
  }
 ],
 "metadata": {
  "kernelspec": {
   "display_name": "Python 3 (ipykernel)",
   "language": "python",
   "name": "python3"
  },
  "language_info": {
   "codemirror_mode": {
    "name": "ipython",
    "version": 3
   },
   "file_extension": ".py",
   "mimetype": "text/x-python",
   "name": "python",
   "nbconvert_exporter": "python",
   "pygments_lexer": "ipython3",
   "version": "3.9.7"
  }
 },
 "nbformat": 4,
 "nbformat_minor": 5
}
